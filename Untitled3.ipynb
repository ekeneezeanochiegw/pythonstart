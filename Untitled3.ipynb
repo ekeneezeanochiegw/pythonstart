{
 "cells": [
  {
   "cell_type": "code",
   "execution_count": 18,
   "id": "54a8ce7c",
   "metadata": {},
   "outputs": [
    {
     "name": "stdout",
     "output_type": "stream",
     "text": [
      "35\n"
     ]
    }
   ],
   "source": [
    "#Write a Python function to find the Max of three numbers.for example, the max of these three numbers 20, 35, 19 is 35\n",
    "\n",
    "def maximum(a, b, c):\n",
    "    list = [a, b, c]\n",
    "    return max(list)\n",
    "  \n",
    "# Driven code \n",
    "a = 20\n",
    "b = 35\n",
    "c = 19\n",
    "print(maximum(a, b, c))"
   ]
  },
  {
   "cell_type": "code",
   "execution_count": null,
   "id": "70dd0f08",
   "metadata": {},
   "outputs": [],
   "source": [
    "#Write a function calculation() such that it can accept two variables and calculate the addition and subtraction of it.\n",
    "\n",
    "def calculation(a, b):\n",
    "    addition = a + b\n",
    "    subtraction = a - b\n",
    "    # return multiple values separated by comma\n",
    "    return addition, subtraction\n",
    "\n",
    "# get result in tuple format\n",
    "res = calculation(40, 10)\n",
    "print(res)"
   ]
  },
  {
   "cell_type": "code",
   "execution_count": 23,
   "id": "046c50c2",
   "metadata": {},
   "outputs": [
    {
     "name": "stdout",
     "output_type": "stream",
     "text": [
      "black-green-red-white-yellow\n"
     ]
    }
   ],
   "source": [
    "#Write a Python program that accepts a hyphen-separated sequence of words as input and prints the words in a hyphen-separated sequence after sorting them alphabetically.\n",
    "\n",
    "def sort_hyphen(your_string):\n",
    "    your_list = your_string.split('-')\n",
    "    your_list.sort()\n",
    "    return '-'.join(your_list)\n",
    "\n",
    "my_string = 'green-red-yellow-black-white'\n",
    "print(sort_hyphen(my_string))"
   ]
  },
  {
   "cell_type": "code",
   "execution_count": null,
   "id": "ab755d12",
   "metadata": {},
   "outputs": [],
   "source": [
    "\n",
    "import math\n",
    "c=50\n",
    "h=30\n",
    "value = []\n",
    "items= [x for x in input)(\"Input numbers comma-separated:\").split(',']\n",
    "for d in items:\n",
    "    value.append(str(int(round(math.sqrt(2*c*float(d)/h)))))\n",
    "\n",
    "print (','.join(value))"
   ]
  },
  {
   "cell_type": "code",
   "execution_count": null,
   "id": "28a28667",
   "metadata": {},
   "outputs": [],
   "source": [
    "#Write a function that sums the elements of a list of integers.\n",
    "#Write a function that multiplies the elements of an integer list\n",
    "\n",
    "grand_list= [10,11,12,13,14,15,16,17,18,19,20]\n",
    "\n",
    "result = 0\n",
    "for x in grand_list:\n",
    "    if x%2 == 0:\n",
    "        result = result + x\n",
    "print ('sum = ' , result)\n",
    "\n",
    "\n",
    "for x in grand_list:\n",
    "    if x%2 != 0:\n",
    "        result = result * x\n",
    "print ('multiply =' , result)\n"
   ]
  },
  {
   "cell_type": "markdown",
   "id": "181f40bc",
   "metadata": {},
   "source": [
    "Write a function that calculates and prints the value according to the given formula: Q = Square root of [(2 * C * D)/H] Following are the fixed values of C and H: C is 50. H is 30. D is the variable whose values should be input to your program in a comma-separated sequence. Example Let us assume the following comma separated input sequence is given to the function: 100,150,180 The output of the program should be: 18,22,24 "
   ]
  },
  {
   "cell_type": "code",
   "execution_count": 3,
   "id": "c1d6fe26",
   "metadata": {},
   "outputs": [
    {
     "ename": "SyntaxError",
     "evalue": "invalid syntax (379513091.py, line 12)",
     "output_type": "error",
     "traceback": [
      "\u001b[0;36m  File \u001b[0;32m\"/var/folders/l0/m713kn6j0q1bv17jsbkn3f_m0000gn/T/ipykernel_949/379513091.py\"\u001b[0;36m, line \u001b[0;32m12\u001b[0m\n\u001b[0;31m    l.append(Q)\u001b[0m\n\u001b[0m    ^\u001b[0m\n\u001b[0;31mSyntaxError\u001b[0m\u001b[0;31m:\u001b[0m invalid syntax\n"
     ]
    }
   ],
   "source": [
    "import math\n",
    "\n",
    "D = input(\"Enter list of numbers : \").split(',')\n",
    "print (D)\n",
    "\n",
    "l = []\n",
    "C = 50\n",
    "H = 30\n",
    "\n",
    "for i in D:\n",
    "    Q = round(math.sqrt((2 * C * int(I)/H))\n",
    "    l.append(Q)  \n",
    "              \n",
    "   print (l)           "
   ]
  },
  {
   "cell_type": "code",
   "execution_count": null,
   "id": "e4301333",
   "metadata": {},
   "outputs": [],
   "source": []
  }
 ],
 "metadata": {
  "kernelspec": {
   "display_name": "Python 3 (ipykernel)",
   "language": "python",
   "name": "python3"
  },
  "language_info": {
   "codemirror_mode": {
    "name": "ipython",
    "version": 3
   },
   "file_extension": ".py",
   "mimetype": "text/x-python",
   "name": "python",
   "nbconvert_exporter": "python",
   "pygments_lexer": "ipython3",
   "version": "3.9.7"
  }
 },
 "nbformat": 4,
 "nbformat_minor": 5
}
