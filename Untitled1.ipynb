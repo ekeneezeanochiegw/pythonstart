{
 "cells": [
  {
   "cell_type": "code",
   "execution_count": 1,
   "id": "081fd3fe",
   "metadata": {},
   "outputs": [
    {
     "name": "stdout",
     "output_type": "stream",
     "text": [
      "Input your First Name : ekene\n",
      "Input your Last Name : ezeanochie\n",
      "Hello  ezeanochie ekene\n"
     ]
    }
   ],
   "source": [
    "#Write a Python program which accepts the user's first and last name and print them in reverse order with a space between them.\n",
    "\n",
    "fname = input(\"Input your First Name : \")\n",
    "lname = input(\"Input your Last Name : \")\n",
    "print (\"Hello  \" + lname + \" \" + fname)\n"
   ]
  },
  {
   "cell_type": "code",
   "execution_count": 2,
   "id": "7ba42c38",
   "metadata": {},
   "outputs": [
    {
     "name": "stdout",
     "output_type": "stream",
     "text": [
      "Input an integer : 5\n",
      "615\n",
      "615\n"
     ]
    }
   ],
   "source": [
    "#Write a Python program that accepts an integer (n) and computes the value of n+nn+nnn\n",
    "#Sample value of n is 5 \n",
    "n = a = int(input(\"Input an integer : \"))\n",
    "n1 = a\n",
    "n2 = a*11\n",
    "n3 = a*111\n",
    "print (n1+n2+n3)\n",
    "n1 = n*11\n",
    "n2 = n*111\n",
    "\n",
    "print (n1+n2+n)"
   ]
  },
  {
   "cell_type": "code",
   "execution_count": 3,
   "id": "75deaa2c",
   "metadata": {},
   "outputs": [
    {
     "name": "stdout",
     "output_type": "stream",
     "text": [
      "Enter a number: 6\n",
      "This is an even number.\n"
     ]
    }
   ],
   "source": [
    "#Write a Python program to find whether a given number (accept from the user) is even or odd, print out an appropriate message to the user.\n",
    "\n",
    "\n",
    "num = int(input(\"Enter a number: \"))\n",
    "mod = num % 2\n",
    "if mod > 0:\n",
    "    print(\"This is an odd number.\")\n",
    "else:\n",
    "    print(\"This is an even number.\")"
   ]
  },
  {
   "cell_type": "code",
   "execution_count": 5,
   "id": "32863e4a",
   "metadata": {},
   "outputs": [
    {
     "name": "stdout",
     "output_type": "stream",
     "text": [
      "1505,1540,1575,1610,1645,1680,1715,1750,1785,1820,1855,1890,1925,1960,1995,2030,2065,2100,2135,2170,2205,2240,2275,2310,2345,2380,2415,2450,2485,2520,2555,2590,2625,2660,2695\n"
     ]
    }
   ],
   "source": [
    "#Write a program which will find all such numbers which are divisible by 7 but are not a multiple of 5, between 2000 and 3200 (both included). The numbers obtained should be printed in a sequence on a single line.\n",
    "\n",
    "nl=[]\n",
    "for x in range(2000, 3200):\n",
    "    if (x%7==0) and (x%5==0):\n",
    "        nl.append(str(x))\n",
    "print (','.join(nl))\n"
   ]
  },
  {
   "cell_type": "code",
   "execution_count": 6,
   "id": "75e6ed29",
   "metadata": {},
   "outputs": [
    {
     "name": "stdout",
     "output_type": "stream",
     "text": [
      "Input a number to compute the factiorial : 6\n",
      "720\n"
     ]
    }
   ],
   "source": [
    "#Write a program that can compute the factorial of a given number. def factorial(n):\n",
    "    if n == 0:\n",
    "        return 1\n",
    "    else:\n",
    "        return n * factorial(n-1)\n",
    "n=int(input(\"Input a number to compute the factiorial : \"))\n",
    "print(factorial(n))\n"
   ]
  },
  {
   "cell_type": "code",
   "execution_count": 92,
   "id": "048f248e",
   "metadata": {},
   "outputs": [
    {
     "name": "stdout",
     "output_type": "stream",
     "text": [
      "hlota\n"
     ]
    }
   ],
   "source": [
    "#Write a program to remove the characters which have odd index values of a given string.\n",
    "\n",
    "for example: string =\"hello team\"\n",
    "\n",
    "the result should be: hlota\n",
    "\n",
    "y = \"hello team\"\n",
    "s = slice(0,9,2)\n",
    "print(y[s])"
   ]
  },
  {
   "cell_type": "code",
   "execution_count": 17,
   "id": "5dafa570",
   "metadata": {},
   "outputs": [
    {
     "name": "stdout",
     "output_type": "stream",
     "text": [
      "enter a price500\n",
      "You have a 50% discount\n",
      "please pay  250.0\n"
     ]
    }
   ],
   "source": [
    "#question7 discount price\n",
    "\n",
    "price = int(input(\"enter a price\"))\n",
    "if price >=500:\n",
    "    print(\"You have a 50% discount\")\n",
    "    print(\"please pay \", price - price*0.5)\n",
    "elif price >=200 and price <500:\n",
    "        print(\"You have a 30% discout\")\n",
    "        print(\"please pay \", price - price*0.3)\n",
    "else:\n",
    "        print(\"You have a 10% discount\")\n",
    "        print(\"please pay \", price - price*0.1)\n",
    " \n",
    "    "
   ]
  },
  {
   "cell_type": "code",
   "execution_count": null,
   "id": "0855f561",
   "metadata": {},
   "outputs": [],
   "source": []
  }
 ],
 "metadata": {
  "kernelspec": {
   "display_name": "Python 3 (ipykernel)",
   "language": "python",
   "name": "python3"
  },
  "language_info": {
   "codemirror_mode": {
    "name": "ipython",
    "version": 3
   },
   "file_extension": ".py",
   "mimetype": "text/x-python",
   "name": "python",
   "nbconvert_exporter": "python",
   "pygments_lexer": "ipython3",
   "version": "3.9.7"
  }
 },
 "nbformat": 4,
 "nbformat_minor": 5
}
