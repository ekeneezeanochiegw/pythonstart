{
 "cells": [
  {
   "cell_type": "markdown",
   "id": "4706b164",
   "metadata": {},
   "source": [
    "Write a Python program to convert an array to an ordinary list with the same items.\n",
    "\n"
   ]
  },
  {
   "cell_type": "code",
   "execution_count": 15,
   "id": "046061c2",
   "metadata": {},
   "outputs": [
    {
     "name": "stdout",
     "output_type": "stream",
     "text": [
      "Original array: array('i', [1, 3, 5, 3, 7, 1, 9, 3])\n",
      "Convert the said array to an ordinary list with the same items:\n",
      "[1, 3, 5, 3, 7, 1, 9, 3]\n"
     ]
    }
   ],
   "source": [
    "from array import *\n",
    "array_num = array('i', [1, 3, 5, 3, 7, 1, 9, 3])\n",
    "print(\"Original array: \"+str(array_num))\n",
    "num_list = array_num.tolist()\n",
    "print(\"Convert the said array to an ordinary list with the same items:\")\n",
    "print(num_list)"
   ]
  },
  {
   "cell_type": "markdown",
   "id": "e6a80de8",
   "metadata": {},
   "source": [
    "Write a NumPy program to compute the sum of the diagonal elements of a given array.\n",
    "\n"
   ]
  },
  {
   "cell_type": "code",
   "execution_count": 21,
   "id": "b7132eb5",
   "metadata": {},
   "outputs": [
    {
     "name": "stdout",
     "output_type": "stream",
     "text": [
      "Original matrix:\n",
      "[[0 1 2]\n",
      " [3 4 5]]\n",
      "Condition number of the said matrix:\n",
      "4\n"
     ]
    }
   ],
   "source": [
    "import numpy as np\n",
    "m = np.arange(6).reshape(2,3)\n",
    "print(\"Original matrix:\")\n",
    "print(m)\n",
    "result =  np.trace(m)\n",
    "print(\"Condition number of the said matrix:\")\n",
    "print(result)"
   ]
  },
  {
   "cell_type": "markdown",
   "id": "5f4a61ea",
   "metadata": {},
   "source": [
    "Write a NumPy program to subtract the mean of each row of a given matrix.\n",
    "\n",
    "Hint: use the mean function\n",
    "\n",
    " "
   ]
  },
  {
   "cell_type": "code",
   "execution_count": 22,
   "id": "bf111eee",
   "metadata": {},
   "outputs": [
    {
     "name": "stdout",
     "output_type": "stream",
     "text": [
      "Original matrix:\n",
      "\n",
      "[[0.09457304 0.98554033 0.11007592 0.19142896 0.0169852  0.61865932\n",
      "  0.23159037 0.57460717 0.88044526 0.53568825]\n",
      " [0.27776276 0.32137744 0.94344526 0.38489285 0.92399984 0.87341756\n",
      "  0.26276134 0.74462272 0.30686129 0.84846524]\n",
      " [0.60252982 0.13264805 0.19120674 0.18569527 0.82500486 0.83323528\n",
      "  0.918614   0.25956473 0.11790032 0.94449065]\n",
      " [0.20910003 0.37163785 0.74800078 0.463874   0.98936081 0.18004294\n",
      "  0.35946884 0.08288576 0.0903665  0.44353678]\n",
      " [0.6479283  0.08775314 0.58361989 0.12553406 0.58695831 0.26030904\n",
      "  0.62669864 0.81021707 0.75918995 0.32503568]]\n",
      "\n",
      "Subtract the mean of each row of the said matrix:\n",
      "\n",
      "[[-0.32938634  0.56158095 -0.31388346 -0.23253042 -0.40697418  0.19469994\n",
      "  -0.19236901  0.15064779  0.45648588  0.11172887]\n",
      " [-0.31099787 -0.26738319  0.35468463 -0.20386778  0.33523921  0.28465693\n",
      "  -0.32599929  0.15586209 -0.28189934  0.25970461]\n",
      " [ 0.10144085 -0.36844092 -0.30988223 -0.3153937   0.32391589  0.33214631\n",
      "   0.41752503 -0.24152424 -0.38318866  0.44340168]\n",
      " [-0.1847274  -0.02218958  0.35417335  0.07004657  0.59553338 -0.21378449\n",
      "  -0.03435859 -0.31094167 -0.30346093  0.04970936]\n",
      " [ 0.16660389 -0.39357127  0.10229548 -0.35579035  0.1056339  -0.22101537\n",
      "   0.14537423  0.32889266  0.27786554 -0.15628872]]\n"
     ]
    }
   ],
   "source": [
    "import numpy as np\n",
    "print(\"Original matrix:\\n\")\n",
    "X = np.random.rand(5, 10)\n",
    "print(X)\n",
    "print(\"\\nSubtract the mean of each row of the said matrix:\\n\")\n",
    "Y = X - X.mean(axis=1, keepdims=True)\n",
    "print(Y)\n"
   ]
  },
  {
   "cell_type": "markdown",
   "id": "36f70731",
   "metadata": {},
   "source": [
    "Given an array of your choice, get all the values higher than X :\n",
    "\n",
    "if a = [[1,2],[3,5]] and x = 2 :  then 3 and 5 are higher than 2. \n",
    "    \n",
    "    \n",
    "    \n",
    "    "
   ]
  },
  {
   "cell_type": "code",
   "execution_count": 23,
   "id": "ce57b786",
   "metadata": {},
   "outputs": [
    {
     "name": "stdout",
     "output_type": "stream",
     "text": [
      "Original array: \n",
      "[[1 2]\n",
      " [3 5]]\n",
      "Values bigger than 2 = [3 5]\n",
      "Their indices are  (array([1, 1]), array([0, 1]))\n"
     ]
    }
   ],
   "source": [
    "import numpy as np\n",
    "x = np.array([[1, 2], [3, 5]])\n",
    "print(\"Original array: \")\n",
    "print(x)\n",
    "print(\"Values bigger than 2 =\", x[x>2])\n",
    "print(\"Their indices are \", np.nonzero(x > 2))\n"
   ]
  },
  {
   "cell_type": "code",
   "execution_count": null,
   "id": "5fc0c82e",
   "metadata": {},
   "outputs": [],
   "source": []
  }
 ],
 "metadata": {
  "kernelspec": {
   "display_name": "Python 3 (ipykernel)",
   "language": "python",
   "name": "python3"
  },
  "language_info": {
   "codemirror_mode": {
    "name": "ipython",
    "version": 3
   },
   "file_extension": ".py",
   "mimetype": "text/x-python",
   "name": "python",
   "nbconvert_exporter": "python",
   "pygments_lexer": "ipython3",
   "version": "3.9.7"
  }
 },
 "nbformat": 4,
 "nbformat_minor": 5
}
