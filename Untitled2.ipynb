{
 "cells": [
  {
   "cell_type": "code",
   "execution_count": 1,
   "id": "fcc5d484",
   "metadata": {},
   "outputs": [
    {
     "name": "stdout",
     "output_type": "stream",
     "text": [
      "36\n"
     ]
    }
   ],
   "source": [
    "#Write a Python program to multiplies all the items in a list. for example list=[2, 3, 6]  result = 36\n",
    "#list using math.prod\n",
    "\n",
    "import math\n",
    "list = (2, 3, 6)\n",
    "result = math.prod(list)\n",
    "print(result)"
   ]
  },
  {
   "cell_type": "code",
   "execution_count": 3,
   "id": "55d2f745",
   "metadata": {},
   "outputs": [
    {
     "name": "stdout",
     "output_type": "stream",
     "text": [
      "Sorted:\n",
      "[(2, 1), (1, 2), (2, 3), (4, 4), (2, 5)]\n"
     ]
    }
   ],
   "source": [
    "#Write a Python program to get a list, sorted in increasing order by the last element in each tuple from a given list of non-empty tuples.\n",
    "Sample List : [(2, 5), (1, 2), (4, 4), (2, 3), (2, 1)]  Expected Result : [(2, 1), (1, 2), (2, 3), (4, 4), (2, 5)]\n",
    "\n",
    "def last(n):\n",
    "    return n[-1]\n",
    "def sort(tuples):\n",
    "    return sorted(tuples, key=last)\n",
    "a=[(2, 5), (1, 2), (4, 4), (2, 3), (2, 1)]\n",
    "print(\"Sorted:\")\n",
    "print(sort(a))"
   ]
  },
  {
   "cell_type": "code",
   "execution_count": 6,
   "id": "dd49358e",
   "metadata": {},
   "outputs": [
    {
     "name": "stdout",
     "output_type": "stream",
     "text": [
      "Counter({'a': 400, 'b': 400, 'd': 400, 'c': 300})\n"
     ]
    }
   ],
   "source": [
    "#Python program to combine two dictionary\n",
    "# adding values for common keys\n",
    "from collections import Counter\n",
    " \n",
    "# initializing two dictionaries\n",
    "dict1 = {'a': 100, 'b': 200, 'c':300}\n",
    "dict2 = {'a': 300, 'b': 200, 'd':400} \n",
    "\n",
    "# adding values with common key\n",
    "\n",
    "Cdict = Counter(dict1) + Counter(dict2)\n",
    "print(Cdict)"
   ]
  },
  {
   "cell_type": "code",
   "execution_count": null,
   "id": "47d2dfbc",
   "metadata": {},
   "outputs": [],
   "source": [
    " #such that is an integral number between 1 and n (both included). and then the program should print the dictionary. Suppose the following input is supplied to the program: 8 Then, the output should be: {1: 1, 2: 4, 3: 9, 4: 16, 5: 25, 6: 36, 7: 49, 8: 64}\n",
    "    \n",
    "# Take User Input of Number\n",
    "\n",
    "n = int(input(\"input the value of n:\"))\n",
    "\n",
    "# Create a dictionary of squares\n",
    "\n",
    "squares = {i : i*i for i in range(1, n+1)}\n",
    "\n",
    "# Print the dictionary\n",
    "\n",
    "print(squares)\n",
    "\n",
    "Enter the value of n: 8\n",
    "\n",
    "{1: 1, 2: 4, 3: 9, 4: 16, 5: 25, 6: 36, 7: 49, 8: 64}\n",
    "\n",
    "\n"
   ]
  },
  {
   "cell_type": "code",
   "execution_count": null,
   "id": "71814e62",
   "metadata": {},
   "outputs": [],
   "source": [
    "#Write a program to sort a tuple by its float element\n",
    "\n",
    "price = [('item1', '12.20'), ('item2', '15.10'), ('item3', '24.5')]\n",
    "print( sorted(price, key=lambda x: float(x[1]), reverse=True))\n"
   ]
  },
  {
   "cell_type": "code",
   "execution_count": null,
   "id": "f321a0ba",
   "metadata": {},
   "outputs": [],
   "source": []
  }
 ],
 "metadata": {
  "kernelspec": {
   "display_name": "Python 3 (ipykernel)",
   "language": "python",
   "name": "python3"
  },
  "language_info": {
   "codemirror_mode": {
    "name": "ipython",
    "version": 3
   },
   "file_extension": ".py",
   "mimetype": "text/x-python",
   "name": "python",
   "nbconvert_exporter": "python",
   "pygments_lexer": "ipython3",
   "version": "3.9.7"
  }
 },
 "nbformat": 4,
 "nbformat_minor": 5
}
