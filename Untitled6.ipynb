{
 "cells": [
  {
   "cell_type": "markdown",
   "id": "21d904b5",
   "metadata": {},
   "source": [
    "Write a python class named Point3D defined by x, y, and z. Define a method that returns (x, y ,z). This tells Python to represent this object in the following format: (x, y, z). Then create a variable named my_point containing a new instance of Point3D with x=1, y=2, and z=3 and print it."
   ]
  },
  {
   "cell_type": "code",
   "execution_count": 5,
   "id": "2ab2ea94",
   "metadata": {},
   "outputs": [
    {
     "name": "stdout",
     "output_type": "stream",
     "text": [
      "(1, 2, 3)\n"
     ]
    }
   ],
   "source": [
    "class Point3D(object):\n",
    "    def __init__(self, x, y, z):\n",
    "        self.x = x\n",
    "        self.y = y\n",
    "        self.z = z\n",
    "        \n",
    "    def __repr__(self):\n",
    "        return \"(%d, %d, %d)\" % (self.x, self.y, self.z)\n",
    "    \n",
    "my_point = Point3D(1, 2, 3)   \n",
    "\n",
    "print(my_point)"
   ]
  },
  {
   "cell_type": "markdown",
   "id": "08bb82a0",
   "metadata": {},
   "source": [
    "Write a Python class named Rectangle constructed by a length and width. Define two methods area and perimeter which will compute the area and the perimeter of the rectangle. Then create a variable named my_rectangle containing a new instance of Rectangle with width=3 and length = 4 and compute both of area and perimeter ( the area is expected to be 3*4=12 and perimeter 2*(3+4)=14)"
   ]
  },
  {
   "cell_type": "code",
   "execution_count": 8,
   "id": "f3f991b4",
   "metadata": {},
   "outputs": [
    {
     "name": "stdout",
     "output_type": "stream",
     "text": [
      "Area - 12 cm²\n",
      "Perimeter - 14 cm\n"
     ]
    }
   ],
   "source": [
    "class Rectangle():\n",
    "    def __init__(self, l, w):\n",
    "        self.length = l\n",
    "        self.width  = w\n",
    "        \n",
    "    def area(self):\n",
    "        return self.length*self.width\n",
    "    def perimeter(self):\n",
    "        return (2*(self.length+self.width))\n",
    "    \n",
    "my_Rectangle = Rectangle(4, 3)\n",
    "print(\"Area -\", my_Rectangle.area(), \"cm\\u00b2\")\n",
    "print('Perimeter -', my_Rectangle.perimeter(), 'cm')"
   ]
  },
  {
   "cell_type": "markdown",
   "id": "1a25d601",
   "metadata": {},
   "source": [
    "Write a Python  class named Circle constructed by its center O and radius r. Define two methods area and perimeter which will compute the area and the perimeter of the circle, and isInside() method of the class which allows to test whether a point A(x, y) belongs to the circle C(O, r) or not."
   ]
  },
  {
   "cell_type": "code",
   "execution_count": 17,
   "id": "aca8039b",
   "metadata": {},
   "outputs": [
    {
     "name": "stdout",
     "output_type": "stream",
     "text": [
      "I am the circle and i have just been initialized.\n",
      "I am the circle and i have just been initialized.\n",
      "Area = 78.53981633974483\n",
      "Circumference =  62.83185307179586\n",
      "The point is outside the circle\n"
     ]
    }
   ],
   "source": [
    "import math\n",
    "class Circle():\n",
    "    \n",
    "    def __init__(self,radius):\n",
    "       self._radius = radius\n",
    "       print(\"I am the circle and i have just been initialized.\")\n",
    "        \n",
    "        \n",
    "    def area(self):\n",
    "        return(math.pi*self._radius*self._radius)\n",
    "    \n",
    "    def perimeter(self):\n",
    "        return 2*math.pi*self._radius\n",
    "    \n",
    "    def distance(self,a, b, x, y):\n",
    "        d = math.sqrt (self._radius**2 - ((x-a)^2 + (y-b)^2))\n",
    "        if (d==0):\n",
    "            print(\"The point is inside the circle\")\n",
    "        elif (d==0):\n",
    "            print(\"The point is on the circle's circumference\")\n",
    "        else:\n",
    "            print(\"The point is outside the circle\")\n",
    "            \n",
    "Circle_a = Circle(5)\n",
    "Circle_b = Circle(10)\n",
    "\n",
    "print(\"Area =\",Circle_a.area())\n",
    "print('Circumference = ',Circle_b.perimeter())\n",
    "\n",
    "testing = Circle_a.distance(4,5,6,7)"
   ]
  },
  {
   "cell_type": "markdown",
   "id": "cb1e0650",
   "metadata": {},
   "source": [
    "Suppose we want to model a bank account with support for deposit and withdraw operations. Let’s create a python class named bank defined by its balance. Define two methods deposit and withdraw to compute the new amount of each operation."
   ]
  },
  {
   "cell_type": "code",
   "execution_count": null,
   "id": "38d9fa1a",
   "metadata": {},
   "outputs": [],
   "source": [
    "class Bank_Account:\n",
    "    def __init__(self):\n",
    "        self.balance=0\n",
    "        print('Welcome to Deposit & Withdrawal Machine!')\n",
    "        \n",
    "    def deposit(self):\n",
    "        amount = float(input('\\nEnter amount to be deposited:'))\n",
    "        self.balance += amount\n",
    "        print ('Amount deposited = ', amount)\n",
    "        \n",
    "    def withdraw(self):\n",
    "        amount = float(input('\\nEnter amount for withdrawl :'))\n",
    "        if self.balance >= amount:\n",
    "            self.balance -= amount\n",
    "            \n",
    "            print('Amount withdrawn = ', amount)\n",
    "            \n",
    "        else:\n",
    "            print('insufficient balance')\n",
    "            \n",
    "    def display(self):\n",
    "            print('\\nNet balance = ', self.balance)\n",
    "            \n",
    "my_account = Bank_Account()\n",
    "account.deposit()\n",
    "account.withdraw()\n",
    "account.display()  #dont know why code wont run"
   ]
  },
  {
   "cell_type": "code",
   "execution_count": null,
   "id": "25f4c4b6",
   "metadata": {},
   "outputs": [],
   "source": []
  }
 ],
 "metadata": {
  "kernelspec": {
   "display_name": "Python 3 (ipykernel)",
   "language": "python",
   "name": "python3"
  },
  "language_info": {
   "codemirror_mode": {
    "name": "ipython",
    "version": 3
   },
   "file_extension": ".py",
   "mimetype": "text/x-python",
   "name": "python",
   "nbconvert_exporter": "python",
   "pygments_lexer": "ipython3",
   "version": "3.9.7"
  }
 },
 "nbformat": 4,
 "nbformat_minor": 5
}
